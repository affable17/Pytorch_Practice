{
 "cells": [
  {
   "cell_type": "code",
   "execution_count": 1,
   "id": "3ce9ee71",
   "metadata": {},
   "outputs": [],
   "source": [
    "import numpy as np\n",
    "import torch "
   ]
  },
  {
   "cell_type": "code",
   "execution_count": 4,
   "id": "c0d5c604",
   "metadata": {},
   "outputs": [
    {
     "name": "stdout",
     "output_type": "stream",
     "text": [
      "tensor([0., 0., 0., 0.])\n",
      "tensor([[0., 0., 0.],\n",
      "        [0., 0., 0.],\n",
      "        [0., 0., 0.],\n",
      "        [0., 0., 0.]])\n",
      "tensor([-2.0830e-17,  1.0902e-42,  0.0000e+00])\n"
     ]
    }
   ],
   "source": [
    "x = torch.FloatTensor(4) #입력\n",
    "W = torch.FloatTensor(4,3) #가중치 Weights\n",
    "b = torch.FloatTensor(3) #편향 bias\n",
    "print(x)\n",
    "print(W)\n",
    "print(b)"
   ]
  },
  {
   "cell_type": "code",
   "execution_count": 7,
   "id": "5b4ae4a0",
   "metadata": {},
   "outputs": [],
   "source": [
    "def linearFunction(x,W,b):\n",
    "  y = torch.matmul(x, W)+b\n",
    "  return y "
   ]
  },
  {
   "cell_type": "code",
   "execution_count": 6,
   "id": "bf2a3a66",
   "metadata": {},
   "outputs": [
    {
     "name": "stdout",
     "output_type": "stream",
     "text": [
      "torch.Size([4, 3]) torch.Size([4])\n",
      "torch.Size([3])\n"
     ]
    }
   ],
   "source": [
    "print(W.shape, x.shape)\n",
    "print(b.shape)"
   ]
  },
  {
   "cell_type": "code",
   "execution_count": 8,
   "id": "5ae0026e",
   "metadata": {},
   "outputs": [
    {
     "name": "stdout",
     "output_type": "stream",
     "text": [
      "torch.Size([3])\n"
     ]
    }
   ],
   "source": [
    "y = linearFunction(x, W, b)\n",
    "print(y.shape)"
   ]
  },
  {
   "cell_type": "markdown",
   "id": "6222b143",
   "metadata": {},
   "source": [
    "# 04_BUILD_NEURAL_NETWORK\n",
    "- 신경망 모델을 클래스로 만들고 nn.Module을 상속받음"
   ]
  },
  {
   "cell_type": "code",
   "execution_count": 19,
   "id": "20951dd2",
   "metadata": {},
   "outputs": [
    {
     "ename": "NameError",
     "evalue": "name 'tensor' is not defined",
     "output_type": "error",
     "traceback": [
      "\u001b[1;31m---------------------------------------------------------------------------\u001b[0m",
      "\u001b[1;31mNameError\u001b[0m                                 Traceback (most recent call last)",
      "Cell \u001b[1;32mIn[19], line 1\u001b[0m\n\u001b[1;32m----> 1\u001b[0m \u001b[43mtensor\u001b[49m\u001b[38;5;241m.\u001b[39mdevice\n",
      "\u001b[1;31mNameError\u001b[0m: name 'tensor' is not defined"
     ]
    }
   ],
   "source": [
    "tensor.device\n"
   ]
  },
  {
   "cell_type": "code",
   "execution_count": 2,
   "id": "a1b61b93",
   "metadata": {},
   "outputs": [],
   "source": [
    "import torch.nn as nn "
   ]
  },
  {
   "cell_type": "code",
   "execution_count": 9,
   "id": "63b3c710",
   "metadata": {},
   "outputs": [],
   "source": [
    "class NeuralNetwork(nn.Module):\n",
    "  def __init__(self): #초기화 메서드\n",
    "    super().__init__() #다른 클래스의 속성/메소드 불러와 #신경망 계층 초기화\n",
    "    self.W = torch.FloatTensor(4,3)\n",
    "    self.b = torch.FloatTensor(3)\n",
    "  def forward(self, x):\n",
    "    y = torch.matmul(x, self.W) + self.b\n",
    "    return y"
   ]
  },
  {
   "cell_type": "code",
   "execution_count": 11,
   "id": "f417e493",
   "metadata": {},
   "outputs": [],
   "source": [
    "x = torch.FloatTensor(4)\n",
    "mylinear = NeuralNetwork()\n",
    "\n",
    "y = mylinear(x)"
   ]
  },
  {
   "cell_type": "code",
   "execution_count": 12,
   "id": "44cfc731",
   "metadata": {},
   "outputs": [
    {
     "name": "stdout",
     "output_type": "stream",
     "text": [
      "tensor([-2.0827e-17,  1.0902e-42,  2.3694e-38]) torch.Size([3])\n"
     ]
    }
   ],
   "source": [
    "print(y, y.shape)"
   ]
  },
  {
   "cell_type": "code",
   "execution_count": 16,
   "id": "41109065",
   "metadata": {},
   "outputs": [],
   "source": [
    "for param in mylinear.parameters():\n",
    "  print(param)"
   ]
  },
  {
   "cell_type": "markdown",
   "id": "9bb202c4",
   "metadata": {},
   "source": [
    "# nn.Parameter 등록"
   ]
  },
  {
   "cell_type": "code",
   "execution_count": null,
   "id": "27ee6e55",
   "metadata": {},
   "outputs": [],
   "source": [
    "class NeuralNetwork(nn.Module):\n",
    "  def __init__(self, input_dim, output_dim):\n",
    "    super.__init__()\n",
    "    self.W = nn.Parameter()\n",
    "    self.b = nn.Parameter()\n",
    "  def forward(self, x):\n",
    "    y = torch.matmul(x, self.W)+self.b \n",
    "    return y "
   ]
  },
  {
   "cell_type": "code",
   "execution_count": null,
   "id": "7a6efc64",
   "metadata": {},
   "outputs": [],
   "source": []
  },
  {
   "cell_type": "code",
   "execution_count": null,
   "id": "7d939f0c",
   "metadata": {},
   "outputs": [],
   "source": []
  },
  {
   "cell_type": "code",
   "execution_count": null,
   "id": "f6f9b650",
   "metadata": {},
   "outputs": [],
   "source": []
  },
  {
   "cell_type": "code",
   "execution_count": 18,
   "id": "8fa3051a",
   "metadata": {},
   "outputs": [
    {
     "data": {
      "text/plain": [
       "array(10)"
      ]
     },
     "execution_count": 18,
     "metadata": {},
     "output_type": "execute_result"
    }
   ],
   "source": [
    "data1 = np.array(10)\n",
    "data1"
   ]
  },
  {
   "cell_type": "code",
   "execution_count": null,
   "id": "a929b684",
   "metadata": {},
   "outputs": [],
   "source": []
  },
  {
   "cell_type": "markdown",
   "id": "55c216f0",
   "metadata": {},
   "source": [
    "\n"
   ]
  },
  {
   "cell_type": "code",
   "execution_count": null,
   "id": "9a837a3f",
   "metadata": {},
   "outputs": [],
   "source": []
  },
  {
   "cell_type": "code",
   "execution_count": null,
   "id": "f5abb153",
   "metadata": {},
   "outputs": [],
   "source": []
  },
  {
   "cell_type": "code",
   "execution_count": null,
   "id": "c906c1d5",
   "metadata": {},
   "outputs": [],
   "source": []
  },
  {
   "cell_type": "code",
   "execution_count": null,
   "id": "2acec4bd",
   "metadata": {},
   "outputs": [],
   "source": []
  },
  {
   "cell_type": "code",
   "execution_count": null,
   "id": "505f0ad9",
   "metadata": {},
   "outputs": [],
   "source": []
  },
  {
   "cell_type": "code",
   "execution_count": 7,
   "id": "33fd9724",
   "metadata": {},
   "outputs": [
    {
     "data": {
      "text/plain": [
       "0"
      ]
     },
     "execution_count": 7,
     "metadata": {},
     "output_type": "execute_result"
    }
   ],
   "source": [
    "data1.ndim #get dimension"
   ]
  },
  {
   "cell_type": "code",
   "execution_count": 8,
   "id": "9bd8bbef",
   "metadata": {},
   "outputs": [
    {
     "data": {
      "text/plain": [
       "()"
      ]
     },
     "execution_count": 8,
     "metadata": {},
     "output_type": "execute_result"
    }
   ],
   "source": [
    "data1.shape"
   ]
  }
 ],
 "metadata": {
  "kernelspec": {
   "display_name": "tf_py",
   "language": "python",
   "name": "python3"
  },
  "language_info": {
   "codemirror_mode": {
    "name": "ipython",
    "version": 3
   },
   "file_extension": ".py",
   "mimetype": "text/x-python",
   "name": "python",
   "nbconvert_exporter": "python",
   "pygments_lexer": "ipython3",
   "version": "3.10.13"
  },
  "toc": {
   "base_numbering": 1,
   "nav_menu": {},
   "number_sections": true,
   "sideBar": true,
   "skip_h1_title": false,
   "title_cell": "Table of Contents",
   "title_sidebar": "Contents",
   "toc_cell": false,
   "toc_position": {},
   "toc_section_display": true,
   "toc_window_display": false
  }
 },
 "nbformat": 4,
 "nbformat_minor": 5
}
