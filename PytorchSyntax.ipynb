{
 "cells": [
  {
   "cell_type": "code",
   "execution_count": 2,
   "id": "61d531af",
   "metadata": {},
   "outputs": [],
   "source": [
    "import torch"
   ]
  },
  {
   "cell_type": "code",
   "execution_count": 2,
   "id": "e6fcaa11",
   "metadata": {},
   "outputs": [
    {
     "name": "stdout",
     "output_type": "stream",
     "text": [
      "Using GPU: NVIDIA GeForce MX450\n"
     ]
    }
   ],
   "source": [
    "if torch.cuda.is_available():\n",
    "    device = torch.device('cuda')\n",
    "    print(\"Using GPU:\", torch.cuda.get_device_name(0))\n",
    "else:\n",
    "    device = torch.device('cpu')\n",
    "    print(\"Using CPU\")"
   ]
  },
  {
   "cell_type": "markdown",
   "id": "a7933760",
   "metadata": {},
   "source": [
    "# Tensor 생성\n",
    "- similiar to numpy's ndarray"
   ]
  },
  {
   "cell_type": "code",
   "execution_count": 4,
   "id": "79af3d64",
   "metadata": {},
   "outputs": [],
   "source": [
    "import numpy as np"
   ]
  },
  {
   "cell_type": "markdown",
   "id": "83e4c4f8",
   "metadata": {},
   "source": [
    "## scala (0D tensor)\n",
    "- can make it using numpy"
   ]
  },
  {
   "cell_type": "code",
   "execution_count": 11,
   "id": "7ac6c9b0",
   "metadata": {},
   "outputs": [
    {
     "name": "stdout",
     "output_type": "stream",
     "text": [
      "10 0 ()\n"
     ]
    }
   ],
   "source": [
    "data1 = np.array(10)\n",
    "print(data1, data1.ndim, data1.shape)"
   ]
  },
  {
   "cell_type": "markdown",
   "id": "0b95135d",
   "metadata": {},
   "source": [
    "## vector(1D tensor)"
   ]
  },
  {
   "cell_type": "code",
   "execution_count": 3,
   "id": "77313936",
   "metadata": {},
   "outputs": [
    {
     "name": "stdout",
     "output_type": "stream",
     "text": [
      "tensor([1., 2.]) 1 torch.Size([2])\n",
      "tensor([0., 0., 0.]) 1 torch.Size([3])\n"
     ]
    }
   ],
   "source": [
    "data2 = torch.FloatTensor([1,2])\n",
    "print(data2, data2.dim(), data2.shape)\n",
    "\n",
    "data2 = torch.FloatTensor(3) \n",
    "print(data2, data2.dim(), data2.shape)"
   ]
  },
  {
   "cell_type": "markdown",
   "id": "13548e0b",
   "metadata": {},
   "source": [
    "## matrix (2D tensor)"
   ]
  },
  {
   "cell_type": "code",
   "execution_count": 7,
   "id": "0cbd504b",
   "metadata": {},
   "outputs": [
    {
     "name": "stdout",
     "output_type": "stream",
     "text": [
      "tensor([[0., 0.],\n",
      "        [0., 0.],\n",
      "        [0., 6.]])\n",
      "2 torch.Size([3, 2])\n"
     ]
    }
   ],
   "source": [
    "data3 = torch.FloatTensor(3,2)\n",
    "print(data3)\n",
    "print(data3.dim(), data3.shape)"
   ]
  },
  {
   "cell_type": "code",
   "execution_count": 9,
   "id": "19d17f21",
   "metadata": {},
   "outputs": [
    {
     "name": "stdout",
     "output_type": "stream",
     "text": [
      "tensor([[1., 2.],\n",
      "        [2., 3.],\n",
      "        [5., 6.]])\n",
      "2 torch.Size([3, 2])\n"
     ]
    }
   ],
   "source": [
    "data3 = torch.FloatTensor([[1,2],[2,3],[5,6]])\n",
    "print(data3)\n",
    "print(data3.dim(), data3.shape)"
   ]
  },
  {
   "cell_type": "markdown",
   "id": "489f8a83",
   "metadata": {},
   "source": [
    "## 3D tensor"
   ]
  },
  {
   "cell_type": "markdown",
   "id": "8d8c1adb",
   "metadata": {},
   "source": []
  },
  {
   "cell_type": "code",
   "execution_count": null,
   "id": "802b16cb",
   "metadata": {},
   "outputs": [],
   "source": []
  },
  {
   "cell_type": "markdown",
   "id": "c68ba162",
   "metadata": {},
   "source": [
    "# Change array structure"
   ]
  },
  {
   "cell_type": "markdown",
   "id": "eae3740f",
   "metadata": {},
   "source": [
    " reshape"
   ]
  },
  {
   "cell_type": "markdown",
   "id": "cda33f1d",
   "metadata": {},
   "source": []
  }
 ],
 "metadata": {
  "kernelspec": {
   "display_name": "tf210-py310",
   "language": "python",
   "name": "tf210"
  },
  "language_info": {
   "codemirror_mode": {
    "name": "ipython",
    "version": 3
   },
   "file_extension": ".py",
   "mimetype": "text/x-python",
   "name": "python",
   "nbconvert_exporter": "python",
   "pygments_lexer": "ipython3",
   "version": "3.10.0"
  },
  "toc": {
   "base_numbering": 1,
   "nav_menu": {},
   "number_sections": true,
   "sideBar": true,
   "skip_h1_title": false,
   "title_cell": "Table of Contents",
   "title_sidebar": "Contents",
   "toc_cell": false,
   "toc_position": {},
   "toc_section_display": true,
   "toc_window_display": false
  }
 },
 "nbformat": 4,
 "nbformat_minor": 5
}
