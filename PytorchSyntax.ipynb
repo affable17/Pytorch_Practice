{
 "cells": [
  {
   "cell_type": "code",
   "execution_count": 1,
   "id": "61d531af",
   "metadata": {},
   "outputs": [
    {
     "data": {
      "text/plain": [
       "'2.2.1'"
      ]
     },
     "execution_count": 1,
     "metadata": {},
     "output_type": "execute_result"
    }
   ],
   "source": [
    "import torch\n",
    "torch.__version__\n",
    "#'2.2.1'"
   ]
  },
  {
   "cell_type": "code",
   "execution_count": 2,
   "id": "e6fcaa11",
   "metadata": {},
   "outputs": [
    {
     "name": "stdout",
     "output_type": "stream",
     "text": [
      "Using GPU: NVIDIA GeForce MX450\n"
     ]
    }
   ],
   "source": [
    "#Using GPU: NVIDIA GeForce MX450\n",
    "if torch.cuda.is_available():\n",
    "    device = torch.device('cuda')\n",
    "    print(\"Using GPU:\", torch.cuda.get_device_name(0))\n",
    "else:\n",
    "    device = torch.device('cpu')\n",
    "    print(\"Using CPU\")"
   ]
  },
  {
   "cell_type": "code",
   "execution_count": 7,
   "id": "1baa4d33",
   "metadata": {},
   "outputs": [
    {
     "name": "stdout",
     "output_type": "stream",
     "text": [
      "False\n",
      "True\n",
      "False\n"
     ]
    }
   ],
   "source": [
    "data =[\n",
    "  [1,2],\n",
    "  [3,4]\n",
    "]\n",
    "x = torch.tensor(data)\n",
    "print(x.is_cuda) #False\n",
    "\n",
    "x= x.cuda() #GPU로 옮기는 방법!!!\n",
    "print(x.is_cuda) #TRUE\n",
    "\n",
    "#다시 CPU로 옮기기\n",
    "x = x.cpu()\n",
    "print(x.is_cuda)\n",
    "\n",
    "'''\n",
    "주의 : 서로 다른 장치device에 있는 텐서끼리 연산 수행하면 오류!!\n",
    "'''"
   ]
  },
  {
   "cell_type": "markdown",
   "id": "a7933760",
   "metadata": {},
   "source": [
    "# Tensor 텐서 생성\n",
    "- similiar to numpy's ndarray\n",
    "- '자동 미분' 기능 제공"
   ]
  },
  {
   "cell_type": "code",
   "execution_count": 11,
   "id": "79af3d64",
   "metadata": {},
   "outputs": [],
   "source": [
    "import numpy as np"
   ]
  },
  {
   "cell_type": "markdown",
   "id": "83e4c4f8",
   "metadata": {},
   "source": [
    "## scala (0D tensor)\n",
    "- can make it using numpy"
   ]
  },
  {
   "cell_type": "code",
   "execution_count": 11,
   "id": "7ac6c9b0",
   "metadata": {},
   "outputs": [
    {
     "name": "stdout",
     "output_type": "stream",
     "text": [
      "10 0 ()\n"
     ]
    }
   ],
   "source": [
    "data1 = np.array(10)\n",
    "print(data1, data1.ndim, data1.shape)"
   ]
  },
  {
   "cell_type": "markdown",
   "id": "0b95135d",
   "metadata": {},
   "source": [
    "## vector(1D tensor)"
   ]
  },
  {
   "cell_type": "code",
   "execution_count": 3,
   "id": "77313936",
   "metadata": {},
   "outputs": [
    {
     "name": "stdout",
     "output_type": "stream",
     "text": [
      "tensor([1., 2.]) 1 torch.Size([2])\n",
      "tensor([0., 0., 0.]) 1 torch.Size([3])\n"
     ]
    }
   ],
   "source": [
    "data2 = torch.FloatTensor([1,2])\n",
    "print(data2, data2.dim(), data2.shape)\n",
    "\n",
    "data2 = torch.FloatTensor(3) \n",
    "print(data2, data2.dim(), data2.shape)"
   ]
  },
  {
   "cell_type": "markdown",
   "id": "13548e0b",
   "metadata": {},
   "source": [
    "## matrix (2D tensor)"
   ]
  },
  {
   "cell_type": "code",
   "execution_count": 7,
   "id": "0cbd504b",
   "metadata": {},
   "outputs": [
    {
     "name": "stdout",
     "output_type": "stream",
     "text": [
      "tensor([[0., 0.],\n",
      "        [0., 0.],\n",
      "        [0., 6.]])\n",
      "2 torch.Size([3, 2])\n"
     ]
    }
   ],
   "source": [
    "data3 = torch.FloatTensor(3,2)\n",
    "print(data3)\n",
    "print(data3.dim(), data3.shape)"
   ]
  },
  {
   "cell_type": "code",
   "execution_count": 9,
   "id": "19d17f21",
   "metadata": {},
   "outputs": [
    {
     "name": "stdout",
     "output_type": "stream",
     "text": [
      "tensor([[1., 2.],\n",
      "        [2., 3.],\n",
      "        [5., 6.]])\n",
      "2 torch.Size([3, 2])\n"
     ]
    }
   ],
   "source": [
    "data3 = torch.FloatTensor([[1,2],[2,3],[5,6]])\n",
    "print(data3)\n",
    "print(data3.dim(), data3.shape)"
   ]
  },
  {
   "cell_type": "markdown",
   "id": "489f8a83",
   "metadata": {},
   "source": [
    "## 3D tensor"
   ]
  },
  {
   "cell_type": "markdown",
   "id": "8d8c1adb",
   "metadata": {},
   "source": [
    "## Tensor 속성"
   ]
  },
  {
   "cell_type": "code",
   "execution_count": 8,
   "id": "802b16cb",
   "metadata": {},
   "outputs": [
    {
     "data": {
      "text/plain": [
       "tensor([[0.9952, 0.1009, 0.4411, 0.7019],\n",
       "        [0.5939, 0.2555, 0.7407, 0.8717],\n",
       "        [0.2518, 0.5918, 0.3667, 0.2298]])"
      ]
     },
     "execution_count": 8,
     "metadata": {},
     "output_type": "execute_result"
    }
   ],
   "source": [
    "tensor = torch.rand(3,4)\n",
    "tensor"
   ]
  },
  {
   "cell_type": "code",
   "execution_count": 10,
   "id": "a9f57c4e",
   "metadata": {},
   "outputs": [
    {
     "name": "stdout",
     "output_type": "stream",
     "text": [
      "shape: torch.Size([3, 4])\n",
      "data type: torch.float32\n",
      "device: cpu\n"
     ]
    }
   ],
   "source": [
    "print('shape:', tensor.shape)\n",
    "print('data type:', tensor.dtype)\n",
    "print('device:', tensor.device)"
   ]
  },
  {
   "cell_type": "markdown",
   "id": "c68ba162",
   "metadata": {},
   "source": [
    "# Change array structure"
   ]
  },
  {
   "cell_type": "code",
   "execution_count": null,
   "id": "7351e376",
   "metadata": {},
   "outputs": [],
   "source": []
  },
  {
   "cell_type": "markdown",
   "id": "eae3740f",
   "metadata": {},
   "source": [
    " reshape"
   ]
  },
  {
   "cell_type": "markdown",
   "id": "cda33f1d",
   "metadata": {},
   "source": [
    "Tensor 연산 Calculations\n",
    "-element wise 연산"
   ]
  },
  {
   "cell_type": "code",
   "execution_count": null,
   "id": "4b065bc7",
   "metadata": {},
   "outputs": [],
   "source": []
  },
  {
   "cell_type": "markdown",
   "id": "815da5e3",
   "metadata": {},
   "source": [
    "자동 미분과 기울기Gradient"
   ]
  },
  {
   "cell_type": "code",
   "execution_count": null,
   "id": "1df4ec24",
   "metadata": {},
   "outputs": [],
   "source": [
    "torch.tensor([3.0, 4.0], requires_grad=True)"
   ]
  },
  {
   "cell_type": "code",
   "execution_count": null,
   "id": "e80c2954",
   "metadata": {},
   "outputs": [],
   "source": [
    "torch.tensor([1.0, 2.0], requires_grad=True)"
   ]
  },
  {
   "cell_type": "code",
   "execution_count": null,
   "id": "a36052a8",
   "metadata": {},
   "outputs": [],
   "source": []
  }
 ],
 "metadata": {
  "kernelspec": {
   "display_name": "tf_py",
   "language": "python",
   "name": "python3"
  },
  "language_info": {
   "codemirror_mode": {
    "name": "ipython",
    "version": 3
   },
   "file_extension": ".py",
   "mimetype": "text/x-python",
   "name": "python",
   "nbconvert_exporter": "python",
   "pygments_lexer": "ipython3",
   "version": "3.10.13"
  },
  "toc": {
   "base_numbering": 1,
   "nav_menu": {},
   "number_sections": true,
   "sideBar": true,
   "skip_h1_title": false,
   "title_cell": "Table of Contents",
   "title_sidebar": "Contents",
   "toc_cell": false,
   "toc_position": {},
   "toc_section_display": true,
   "toc_window_display": false
  }
 },
 "nbformat": 4,
 "nbformat_minor": 5
}
